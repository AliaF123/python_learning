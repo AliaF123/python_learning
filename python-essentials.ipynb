{
 "cells": [
  {
   "cell_type": "markdown",
   "id": "108437c4-10e7-4aa2-a0c8-8e90a39e8ea1",
   "metadata": {},
   "source": [
    "# Python Essentials\n"
   ]
  },
  {
   "cell_type": "code",
   "execution_count": 2,
   "id": "75d10ea6-2fc4-47fd-9fda-10c9e69cf30b",
   "metadata": {},
   "outputs": [
    {
     "name": "stdout",
     "output_type": "stream",
     "text": [
      "Hello World\n"
     ]
    }
   ],
   "source": [
    "print(\"Hello World\")"
   ]
  }
 ],
 "metadata": {
  "kernelspec": {
   "display_name": "Python 3 (ipykernel)",
   "language": "python",
   "name": "python3"
  },
  "language_info": {
   "codemirror_mode": {
    "name": "ipython",
    "version": 3
   },
   "file_extension": ".py",
   "mimetype": "text/x-python",
   "name": "python",
   "nbconvert_exporter": "python",
   "pygments_lexer": "ipython3",
   "version": "3.12.4"
  }
 },
 "nbformat": 4,
 "nbformat_minor": 5
}
