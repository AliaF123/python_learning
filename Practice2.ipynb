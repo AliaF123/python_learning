{
 "cells": [
  {
   "cell_type": "code",
   "execution_count": 3,
   "id": "449c4218-3a72-4f3b-a72e-3499e16691f2",
   "metadata": {
    "editable": true,
    "slideshow": {
     "slide_type": ""
    },
    "tags": []
   },
   "outputs": [
    {
     "name": "stdin",
     "output_type": "stream",
     "text": [
      "Enter the value on kilometers 2\n"
     ]
    },
    {
     "name": "stdout",
     "output_type": "stream",
     "text": [
      "2.0 kilometers is equal to 1.242742 miles\n"
     ]
    }
   ],
   "source": [
    "#Write a program to convert kilometers to miles\n",
    "kilometers=float(input(\"Enter the value on kilometers\"))\n",
    "#Conversion factor 1 km=0.621371miles\n",
    "conversion_factor=0.621371\n",
    "miles= kilometers * conversion_factor\n",
    "print(f\"{kilometers} kilometers is equal to {miles} miles\")"
   ]
  },
  {
   "cell_type": "code",
   "execution_count": 7,
   "id": "81d8c24d-3185-4162-8cb7-24903a480e1b",
   "metadata": {
    "editable": true,
    "slideshow": {
     "slide_type": ""
    },
    "tags": []
   },
   "outputs": [
    {
     "name": "stdin",
     "output_type": "stream",
     "text": [
      "Enter temprature in celsius: 32\n"
     ]
    },
    {
     "name": "stdout",
     "output_type": "stream",
     "text": [
      "Conversion of 32.0 degree celsius to fahrenheit is 65.8\n"
     ]
    }
   ],
   "source": [
    "#Write a program to convert Celcius to Fahrenheit\n",
    "celsius=float(input(\"Enter temprature in celsius:\"))\n",
    "#Conversion formula: Farhenhiet=(Celsius * 9/5) +32\n",
    "fahrenheit=(celsius+9/5) +32\n",
    "print(f\"Conversion of {celsius} degree celsius to fahrenheit is {fahrenheit}\")"
   ]
  },
  {
   "cell_type": "markdown",
   "id": "0787bed8-909d-4aba-a59d-21ffb22215e8",
   "metadata": {
    "editable": true,
    "slideshow": {
     "slide_type": ""
    },
    "tags": []
   },
   "source": [
    "### Program to display calender\n",
    "import calendar\n",
    "year=int(input(\"Enter year:\"))\n",
    "month=int(input(\"Enter month:\"))\n",
    "cal=calendar.month(year,month)\n",
    "print(cal)"
   ]
  },
  {
   "cell_type": "code",
   "execution_count": 17,
   "id": "114c8cc3-43d4-493f-8c71-25bf22b8167c",
   "metadata": {
    "editable": true,
    "slideshow": {
     "slide_type": ""
    },
    "tags": []
   },
   "outputs": [
    {
     "name": "stdin",
     "output_type": "stream",
     "text": [
      "Enter year: 1996\n",
      "Enter month: 4\n"
     ]
    },
    {
     "name": "stdout",
     "output_type": "stream",
     "text": [
      "     April 1996\n",
      "Mo Tu We Th Fr Sa Su\n",
      " 1  2  3  4  5  6  7\n",
      " 8  9 10 11 12 13 14\n",
      "15 16 17 18 19 20 21\n",
      "22 23 24 25 26 27 28\n",
      "29 30\n",
      "\n"
     ]
    }
   ],
   "source": [
    "#Program to display calender\n",
    "import calendar\n",
    "year=int(input(\"Enter year:\")) \n",
    "month=int(input(\"Enter month:\")) \n",
    "cal=calendar.month(year,month)\n",
    "print(cal)"
   ]
  }
 ],
 "metadata": {
  "kernelspec": {
   "display_name": "Python 3 (ipykernel)",
   "language": "python",
   "name": "python3"
  },
  "language_info": {
   "codemirror_mode": {
    "name": "ipython",
    "version": 3
   },
   "file_extension": ".py",
   "mimetype": "text/x-python",
   "name": "python",
   "nbconvert_exporter": "python",
   "pygments_lexer": "ipython3",
   "version": "3.12.4"
  }
 },
 "nbformat": 4,
 "nbformat_minor": 5
}
