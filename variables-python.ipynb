{
 "cells": [
  {
   "cell_type": "markdown",
   "id": "24b300d1-25e2-475f-b135-c0716c7f5dc4",
   "metadata": {
    "editable": true,
    "slideshow": {
     "slide_type": ""
    },
    "tags": []
   },
   "source": [
    "# Variables and Data types"
   ]
  },
  {
   "cell_type": "code",
   "execution_count": null,
   "id": "522d9223-0863-4803-9e74-899389b48377",
   "metadata": {},
   "outputs": [],
   "source": [
    "x = 100"
   ]
  },
  {
   "cell_type": "code",
   "execution_count": 6,
   "id": "7359b82d-997e-441d-95e1-08635b0aa79e",
   "metadata": {},
   "outputs": [
    {
     "name": "stdout",
     "output_type": "stream",
     "text": [
      "<class 'int'>\n"
     ]
    }
   ],
   "source": [
    "x=100\n",
    "print(type(x))"
   ]
  },
  {
   "cell_type": "code",
   "execution_count": 8,
   "id": "fe876cbf-ee58-48ab-bdb2-45805372bd7e",
   "metadata": {},
   "outputs": [
    {
     "name": "stdout",
     "output_type": "stream",
     "text": [
      "10\n",
      "99\n"
     ]
    }
   ],
   "source": [
    "#rules of variable'\n",
    "#case sensitive \n",
    "x=10\n",
    "X=99\n",
    "print(x)\n",
    "print(X)\n"
   ]
  },
  {
   "cell_type": "code",
   "execution_count": 10,
   "id": "67bc4b81-ecac-46ee-a7f9-aeda438f175e",
   "metadata": {},
   "outputs": [
    {
     "name": "stdout",
     "output_type": "stream",
     "text": [
      "['False', 'None', 'True', 'and', 'as', 'assert', 'async', 'await', 'break', 'class', 'continue', 'def', 'del', 'elif', 'else', 'except', 'finally', 'for', 'from', 'global', 'if', 'import', 'in', 'is', 'lambda', 'nonlocal', 'not', 'or', 'pass', 'raise', 'return', 'try', 'while', 'with', 'yield']\n"
     ]
    }
   ],
   "source": [
    "# predefined keywords\n",
    "import keyword\n",
    "print (keyword.kwlist)"
   ]
  },
  {
   "cell_type": "code",
   "execution_count": 23,
   "id": "ca9b3629-7065-450b-8a46-3942abf5a98f",
   "metadata": {},
   "outputs": [
    {
     "name": "stdout",
     "output_type": "stream",
     "text": [
      "<class 'str'>\n",
      "<class 'str'>\n",
      "<class 'str'>\n",
      "<class 'int'>\n"
     ]
    }
   ],
   "source": [
    "#Devops\n",
    "db_host= \"localhost\"\n",
    "db_user=\"admin\"\n",
    "app_port= 8080\n",
    "db_password=\"password123\"\n",
    "print(type(db_host))\n",
    "print(type(db_user))\n",
    "print(type(db_password))\n",
    "print(type(app_port))"
   ]
  },
  {
   "cell_type": "code",
   "execution_count": 47,
   "id": "e385f4e2-fb59-4acf-83e7-5ef53f8d90b7",
   "metadata": {},
   "outputs": [
    {
     "name": "stdout",
     "output_type": "stream",
     "text": [
      "<class 'float'>\n",
      "<class 'int'>\n",
      "<class 'int'>\n"
     ]
    }
   ],
   "source": [
    "#AIOps orMLOps\n",
    "learning_rate=0.0001\n",
    "batch_size=8\n",
    "num_epochs=10\n",
    "print(type(learning_rate))\n",
    "print(type(batch_size))\n",
    "print(type(num_epochs))"
   ]
  },
  {
   "cell_type": "code",
   "execution_count": 49,
   "id": "bd37b52b-2a3e-4e4f-97aa-3217365d31b1",
   "metadata": {},
   "outputs": [
    {
     "name": "stdout",
     "output_type": "stream",
     "text": [
      "<class 'list'>\n",
      "[10, 20, 'hello', 25.52, True]\n"
     ]
    }
   ],
   "source": [
    "#Python list(Mutable\n",
    "#contains ordered collection of elements enclosed within square brackets\n",
    "#contain elecments from data type\n",
    "l1=[10,20,\"hello\",25.52,True]\n",
    "print(type(l1))\n",
    "print(l1)"
   ]
  },
  {
   "cell_type": "code",
   "execution_count": 51,
   "id": "7dbcc7de-667f-42e3-ad72-697142f5d759",
   "metadata": {},
   "outputs": [
    {
     "name": "stdout",
     "output_type": "stream",
     "text": [
      "<class 'list'>\n",
      "[10, 20, 'hello', 25.52, True]\n"
     ]
    }
   ],
   "source": [
    "#Python tuples(Immutable)\n",
    "#contains ordered collection of elements enclosed within round brackets\n",
    "#contain elecments from data type\n",
    "l1=[10,20,\"hello\",25.52,True]\n",
    "print(type(l1))\n",
    "print(l1)"
   ]
  },
  {
   "cell_type": "code",
   "execution_count": 57,
   "id": "d7e8574b-1d4a-4a73-baee-d0b728826b2e",
   "metadata": {},
   "outputs": [
    {
     "name": "stdout",
     "output_type": "stream",
     "text": [
      "<class 'dict'>\n",
      "{'name': 'Alia', 'profession': 'engineer', 'exp': 6}\n"
     ]
    }
   ],
   "source": [
    "#Python dict\n",
    "#contain key value pair mutable\n",
    "d1={\"name\":\"Alia\",\"profession\":\"engineer\",\"exp\": 6}\n",
    "print(type(d1))\n",
    "print(d1)"
   ]
  },
  {
   "cell_type": "code",
   "execution_count": null,
   "id": "659a65d7-bdc3-4ec4-a6a7-50f37ad23ce0",
   "metadata": {},
   "outputs": [],
   "source": []
  },
  {
   "cell_type": "code",
   "execution_count": null,
   "id": "a2a1bc79-f8f1-4113-93cb-f634a7783f63",
   "metadata": {},
   "outputs": [],
   "source": []
  }
 ],
 "metadata": {
  "kernelspec": {
   "display_name": "Python 3 (ipykernel)",
   "language": "python",
   "name": "python3"
  },
  "language_info": {
   "codemirror_mode": {
    "name": "ipython",
    "version": 3
   },
   "file_extension": ".py",
   "mimetype": "text/x-python",
   "name": "python",
   "nbconvert_exporter": "python",
   "pygments_lexer": "ipython3",
   "version": "3.12.4"
  }
 },
 "nbformat": 4,
 "nbformat_minor": 5
}
