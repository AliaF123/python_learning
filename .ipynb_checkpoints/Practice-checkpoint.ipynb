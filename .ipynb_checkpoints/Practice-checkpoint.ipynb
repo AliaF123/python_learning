{
 "cells": [
  {
   "cell_type": "code",
   "execution_count": 6,
   "id": "a1ca5949-03bc-4f61-a8a5-ad295cdce208",
   "metadata": {},
   "outputs": [
    {
     "name": "stdout",
     "output_type": "stream",
     "text": [
      "20\n"
     ]
    }
   ],
   "source": [
    "Variables and Data types\n",
    "age =20 #int\n",
    "price=19.95 #float variable\n",
    "first_name=\"aaa\" #string\n",
    "is_online= False #Boolean\n",
    "print (age)"
   ]
  },
  {
   "cell_type": "code",
   "execution_count": 8,
   "id": "f6fb4d3e-8b9d-4291-904e-266fe223e2cb",
   "metadata": {},
   "outputs": [
    {
     "name": "stdout",
     "output_type": "stream",
     "text": [
      "Check In\n",
      "Data=\n",
      "Name: John Smith\n",
      "Age: 20 Years Old\n",
      "New Patient? Yes\n"
     ]
    }
   ],
   "source": [
    "print (\"Check In\")\n",
    "print(\"Data=\")\n",
    "first_name = \"John Smith\"\n",
    "age = 20\n",
    "new_patient = True\n",
    "print(\"Name:\",first_name)\n",
    "print(\"Age:\",age,\"Years Old\")\n",
    "print(\"New Patient?\",\"Yes\")"
   ]
  },
  {
   "cell_type": "code",
   "execution_count": 14,
   "id": "f4d851f0-9e10-4a7a-85f2-31232b2a0be9",
   "metadata": {},
   "outputs": [
    {
     "name": "stdin",
     "output_type": "stream",
     "text": [
      "What is your name?  Alia\n"
     ]
    },
    {
     "name": "stdout",
     "output_type": "stream",
     "text": [
      "Hello Alia\n"
     ]
    }
   ],
   "source": [
    "name=input(\"What is your name? \")\n",
    "print(\"Hello \"+ name) //string concatenation\n"
   ]
  },
  {
   "cell_type": "code",
   "execution_count": 33,
   "id": "2a0a30ea-2e73-4072-92a2-1d7249092070",
   "metadata": {},
   "outputs": [
    {
     "name": "stdin",
     "output_type": "stream",
     "text": [
      "Enter birth year 1992\n"
     ]
    },
    {
     "name": "stdout",
     "output_type": "stream",
     "text": [
      "28\n"
     ]
    }
   ],
   "source": [
    "#Type Casting\n",
    "birth_year= input(\"Enter birth year\")\n",
    "age = 2020 - int(birth_year)\n",
    "print(age)"
   ]
  },
  {
   "cell_type": "code",
   "execution_count": 37,
   "id": "12dcdc5b-4354-4cec-9888-0b841cf94619",
   "metadata": {},
   "outputs": [
    {
     "name": "stdout",
     "output_type": "stream",
     "text": [
      "30.5\n"
     ]
    }
   ],
   "source": [
    "a= 10\n",
    "b=20.5\n",
    "sum= 10+ 20.5\n",
    "print(sum)"
   ]
  },
  {
   "cell_type": "code",
   "execution_count": 58,
   "id": "968c800f-c1c8-4762-8e2d-0bbf84d8e87f",
   "metadata": {},
   "outputs": [
    {
     "name": "stdin",
     "output_type": "stream",
     "text": [
      "Enter first number 1\n",
      "Enter second number 2\n"
     ]
    },
    {
     "name": "stdout",
     "output_type": "stream",
     "text": [
      "Sum of numbers 3\n"
     ]
    }
   ],
   "source": [
    "#input\n",
    "first= input(\"Enter first number\")\n",
    "second= input(\"Enter second number\")\n",
    "sum= int(first) + int(second)\n",
    "print(\"Sum of numbers\", str(sum))"
   ]
  },
  {
   "cell_type": "code",
   "execution_count": 72,
   "id": "1547ecd9-c1ff-4698-aecb-74b4036e3381",
   "metadata": {},
   "outputs": [
    {
     "name": "stdout",
     "output_type": "stream",
     "text": [
      "13\n",
      "PYTHON FOR BEGINNERS\n",
      "python for beginners\n",
      "Python 4 beginners\n",
      "Python for beginners\n",
      "True\n"
     ]
    }
   ],
   "source": [
    "#strings\n",
    "course = \"Python for beginners\"\n",
    "print(course.find('g')) # index of fisrt caharater\n",
    "print(course.upper())\n",
    "print(course.lower())\n",
    "print(course.replace('for','4'))\n",
    "print(course) #original state no changes immutable\n",
    "print('Python' in course)\n",
    "\n"
   ]
  },
  {
   "cell_type": "code",
   "execution_count": 94,
   "id": "30117d96-8070-4382-ba40-0edef9e651c7",
   "metadata": {},
   "outputs": [
    {
     "name": "stdout",
     "output_type": "stream",
     "text": [
      "13\n",
      "7\n",
      "30\n",
      "3.3333333333333335\n",
      "3\n",
      "1\n",
      "1000\n",
      "13\n",
      "11.5\n",
      "16\n",
      "26\n"
     ]
    }
   ],
   "source": [
    "#Airthmetic operations\n",
    "print(10+3)#Addition\n",
    "print(10-3)#Subtraction\n",
    "print(10*3)#Multiplication\n",
    "print(10/3) #Division\n",
    "print(10//3) #Floor Division\n",
    "print(10%3) #Modulus\n",
    "print(10**3) # Power\n",
    "x=10\n",
    "x+=3 #Augmenented Assignment Operator\n",
    "print(x)\n",
    "\n",
    "b-=3\n",
    "print(b)\n",
    "\n",
    "#Operator Precedence \n",
    "y=10 + 3 * 2\n",
    "print (y)\n",
    "\n",
    "#BODMAS\n",
    "\n",
    "y=(10+3) *2\n",
    "print(y)\n",
    "\n"
   ]
  },
  {
   "cell_type": "code",
   "execution_count": 104,
   "id": "99ce71d5-a8cf-4598-b19a-ec32942b6eea",
   "metadata": {},
   "outputs": [
    {
     "name": "stdout",
     "output_type": "stream",
     "text": [
      "True\n",
      "True\n",
      "False\n",
      "False\n",
      "True\n"
     ]
    }
   ],
   "source": [
    "#Comparison Operator\n",
    "x=3>2\n",
    "print(x)\n",
    "x=3>=2\n",
    "print(x)\n",
    "x=3<=2\n",
    "print(x)\n",
    "x=3==2\n",
    "print(x)\n",
    "x=3!=2\n",
    "print(x)"
   ]
  },
  {
   "cell_type": "code",
   "execution_count": 131,
   "id": "a8404813-9b43-4cec-9928-397ac3c76d18",
   "metadata": {},
   "outputs": [
    {
     "name": "stdout",
     "output_type": "stream",
     "text": [
      "True\n",
      "False\n",
      "True\n"
     ]
    }
   ],
   "source": [
    "#Logical Operators\n",
    "price= 25\n",
    "print( price > 10 and price < 30)\n",
    "price1=5 \n",
    "print(price1 >10 and price1 < 30)\n",
    "\n",
    "print(not price > 10)\n"
   ]
  },
  {
   "cell_type": "code",
   "execution_count": 157,
   "id": "4bdaea46-d2bb-4e24-9702-13ab2f7a2f73",
   "metadata": {},
   "outputs": [
    {
     "name": "stdin",
     "output_type": "stream",
     "text": [
      "Enter temprature today 5\n"
     ]
    },
    {
     "name": "stdout",
     "output_type": "stream",
     "text": [
      "It's a cold day\n",
      "Done\n"
     ]
    }
   ],
   "source": [
    "#if else statements-decision making indenation is import for block of code\n",
    "temprature=float(input(\"Enter temprature today\"))\n",
    "if temprature > 30 :\n",
    "    print(\"It's a hot day\")\n",
    "    print(\"Drink plenty of water\") \n",
    "elif temprature > 20 :\n",
    "    print(\"It's a nice day\") #[20,30]\n",
    "elif temprature > 10 :  #[10,20]\n",
    "    print(\"It's bit cold\")\n",
    "else : \n",
    "    print(\"It's a cold day\")   \n",
    "print(\"Done\")\n",
    "\n",
    "    \n",
    "    "
   ]
  },
  {
   "cell_type": "code",
   "execution_count": 189,
   "id": "9b3e53d7-bbf7-4908-8871-ca3dc379bd71",
   "metadata": {},
   "outputs": [
    {
     "name": "stdin",
     "output_type": "stream",
     "text": [
      "Enter your weight 45\n",
      "(K)s or (L)s k\n"
     ]
    },
    {
     "name": "stdout",
     "output_type": "stream",
     "text": [
      "Weight in lbs : 100.0\n"
     ]
    }
   ],
   "source": [
    "Weight=float(input(\"Enter your weight\"))\n",
    "Unit=str(input(\"(K)s or (L)s\"))\n",
    "if Unit.upper() == \"K\" :\n",
    "     converted= Weight/0.45;\n",
    "     print(\"Weight in lbs : \" + str(converted) )\n",
    "else :\n",
    "     converted= Weight* 0.45;\n",
    "     print(\"Weight in kgs : \" + str(converted)) "
   ]
  },
  {
   "cell_type": "code",
   "execution_count": 187,
   "id": "6e021422-dce1-4fa9-afeb-84fc3f5abb40",
   "metadata": {},
   "outputs": [
    {
     "name": "stdout",
     "output_type": "stream",
     "text": [
      "*\n",
      "**\n",
      "***\n",
      "****\n",
      "*****\n",
      "******\n",
      "*******\n",
      "********\n",
      "*********\n",
      "**********\n"
     ]
    }
   ],
   "source": [
    "#While loops in Python\n",
    "i = 1\n",
    "while i<=10 :\n",
    "    print(i * '*')\n",
    "    i=i+1"
   ]
  },
  {
   "cell_type": "code",
   "execution_count": 191,
   "id": "8fc42c8e-e9cd-4680-8e23-6b252c29a8af",
   "metadata": {},
   "outputs": [
    {
     "name": "stdout",
     "output_type": "stream",
     "text": [
      "1\n",
      "2\n",
      "3\n",
      "4\n",
      "5\n"
     ]
    }
   ],
   "source": [
    "i = 1\n",
    "while i<=5 :\n",
    "    print(i)\n",
    "    i=i+1"
   ]
  },
  {
   "cell_type": "code",
   "execution_count": 211,
   "id": "80ad614d-4a2a-494d-ac9e-0b03ed58cfe8",
   "metadata": {},
   "outputs": [
    {
     "name": "stdout",
     "output_type": "stream",
     "text": [
      "['John', 'Bob', 'Mosh', 'Sam', 'Mary']\n",
      "Bob\n",
      "Mary\n",
      "Mary\n",
      "['Jon', 'Bob', 'Mosh', 'Sam', 'Mary']\n",
      "['Jon', 'Bob', 'Mosh']\n"
     ]
    }
   ],
   "source": [
    "#complex data types\n",
    "#list\n",
    "names=[\"John\",\"Bob\",\"Mosh\",\"Sam\",\"Mary\"]\n",
    "print(names)\n",
    "print(names[1]) #print first vlaue\n",
    "print(names[-1]) #last element end\n",
    "print(names[4])\n",
    "names[0]=\"Jon\"  #change value original list\n",
    "print(names)\n",
    "print(names[0:3]) # values from index 0 to 3. Doesnot modify original list"
   ]
  },
  {
   "cell_type": "code",
   "execution_count": 223,
   "id": "c748d76e-39e4-49e9-9e41-39a1b88c942c",
   "metadata": {
    "editable": true,
    "slideshow": {
     "slide_type": ""
    },
    "tags": []
   },
   "outputs": [
    {
     "name": "stdout",
     "output_type": "stream",
     "text": [
      "[1, 2, 3, 4, 5, 6]\n",
      "[-1, 1, 2, 3, 4, 5, 6]\n",
      "True\n",
      "False\n",
      "7\n"
     ]
    }
   ],
   "source": [
    "#List Methods\n",
    "#Strings are objects have methods\n",
    "#List are objects have methods\n",
    "numbers =[1,2,3,4,5]\n",
    "numbers.append(6)\n",
    "print(numbers)\n",
    "numbers.insert(0,-1)\n",
    "print(numbers)\n",
    "#numbers.remove(6) to remove element\n",
    "#numbers.clear() to remove all elements from list\n",
    "print(1 in numbers)\n",
    "print(10 in numbers)\n",
    "print(len(numbers))\n",
    "\n"
   ]
  },
  {
   "cell_type": "code",
   "execution_count": 231,
   "id": "f2346a9b-e559-4409-8076-0a2d05882dc7",
   "metadata": {
    "editable": true,
    "slideshow": {
     "slide_type": ""
    },
    "tags": []
   },
   "outputs": [
    {
     "name": "stdout",
     "output_type": "stream",
     "text": [
      "1\n",
      "2\n",
      "3\n",
      "4\n",
      "5\n"
     ]
    }
   ],
   "source": [
    "#For loop\n",
    "numbers=[1,2,3,4,5]\n",
    "for item in numbers :\n",
    "    print(item)"
   ]
  },
  {
   "cell_type": "code",
   "execution_count": 237,
   "id": "3679e992-f268-4419-a321-dd00eea6a863",
   "metadata": {
    "editable": true,
    "slideshow": {
     "slide_type": ""
    },
    "tags": []
   },
   "outputs": [
    {
     "name": "stdout",
     "output_type": "stream",
     "text": [
      "1\n",
      "2\n",
      "3\n",
      "4\n",
      "5\n"
     ]
    }
   ],
   "source": [
    "i=0\n",
    "while i < len(numbers) :\n",
    "    print(numbers[i])\n",
    "    i=i+1"
   ]
  },
  {
   "cell_type": "code",
   "execution_count": 247,
   "id": "81f0cdcc-f59d-49c3-82a4-c8d323bb6a65",
   "metadata": {
    "editable": true,
    "slideshow": {
     "slide_type": ""
    },
    "tags": []
   },
   "outputs": [
    {
     "name": "stdout",
     "output_type": "stream",
     "text": [
      "1\n",
      "2\n",
      "3\n",
      "4\n",
      "5\n"
     ]
    }
   ],
   "source": [
    "#range function \n",
    "#range(5) value from 0 to 5  excluding 5x\n",
    "numbers=range(5,10)\n",
    "for number in numbers:\n",
    "    print (numbers)\n",
    "\n"
   ]
  }
 ],
 "metadata": {
  "kernelspec": {
   "display_name": "Python 3 (ipykernel)",
   "language": "python",
   "name": "python3"
  },
  "language_info": {
   "codemirror_mode": {
    "name": "ipython",
    "version": 3
   },
   "file_extension": ".py",
   "mimetype": "text/x-python",
   "name": "python",
   "nbconvert_exporter": "python",
   "pygments_lexer": "ipython3",
   "version": "3.12.4"
  }
 },
 "nbformat": 4,
 "nbformat_minor": 5
}
