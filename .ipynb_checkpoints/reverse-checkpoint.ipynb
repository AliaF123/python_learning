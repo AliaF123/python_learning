{
 "cells": [
  {
   "cell_type": "code",
   "execution_count": 11,
   "id": "fcfcbcfb-5204-4792-b6d1-425097d2761b",
   "metadata": {},
   "outputs": [
    {
     "name": "stdout",
     "output_type": "stream",
     "text": [
      "The original string is : Novo Nordisk\n",
      "The reversed string(using loops) is : N \n"
     ]
    }
   ],
   "source": [
    "#reverse string using loop\n",
    "\n",
    "def reverse(s):\n",
    "    str = \" \"\n",
    "    for i in s:\n",
    "        str=i + str\n",
    "        return str\n",
    "\n",
    "s=\"Novo Nordisk\"\n",
    "print(\"The original string is : \", end=\"\")\n",
    "print(s)\n",
    "\n",
    "print(\"The reversed string(using loops) is : \", end=\"\")\n",
    "print(reverse(s))\n",
    "\n",
    "\n"
   ]
  },
  {
   "cell_type": "code",
   "execution_count": null,
   "id": "d0879342-15d4-41bb-a4c1-877733a3a274",
   "metadata": {},
   "outputs": [],
   "source": []
  },
  {
   "cell_type": "code",
   "execution_count": null,
   "id": "e0b5b258-74e0-4a57-bb7a-5cd35e72ed97",
   "metadata": {},
   "outputs": [],
   "source": []
  }
 ],
 "metadata": {
  "kernelspec": {
   "display_name": "Python 3 (ipykernel)",
   "language": "python",
   "name": "python3"
  },
  "language_info": {
   "codemirror_mode": {
    "name": "ipython",
    "version": 3
   },
   "file_extension": ".py",
   "mimetype": "text/x-python",
   "name": "python",
   "nbconvert_exporter": "python",
   "pygments_lexer": "ipython3",
   "version": "3.12.4"
  }
 },
 "nbformat": 4,
 "nbformat_minor": 5
}
