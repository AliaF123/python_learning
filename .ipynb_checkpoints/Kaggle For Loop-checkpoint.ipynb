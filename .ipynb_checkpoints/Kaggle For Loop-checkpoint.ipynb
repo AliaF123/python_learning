{
 "cells": [
  {
   "cell_type": "code",
   "execution_count": 1,
   "id": "9971d9a6-96bc-473b-a909-cddf205687d3",
   "metadata": {},
   "outputs": [
    {
     "name": "stdout",
     "output_type": "stream",
     "text": [
      "[False, False, True, True]\n"
     ]
    }
   ],
   "source": [
    "#Kaggle practice questions \n",
    "def filter_nested_input(nested_input):\n",
    "    L, thresh = nested_input[0], nested_input[1]  # Extract list and threshold\n",
    "    L1 = []\n",
    "    for i in range(len(L)):\n",
    "        if L[i] > thresh:\n",
    "            L1.append(True)\n",
    "        else:\n",
    "            L1.append(False)\n",
    "    return L1\n",
    "\n",
    "nested_input = [[1, 2, 3, 4], 2]\n",
    "result = filter_nested_input(nested_input)\n",
    "print(result)  # Output: [False, False, True, True]"
   ]
  },
  {
   "cell_type": "code",
   "execution_count": null,
   "id": "d056cc0a-0819-4f4f-b56e-2d6b2438ea25",
   "metadata": {},
   "outputs": [],
   "source": []
  }
 ],
 "metadata": {
  "kernelspec": {
   "display_name": "Python 3 (ipykernel)",
   "language": "python",
   "name": "python3"
  },
  "language_info": {
   "codemirror_mode": {
    "name": "ipython",
    "version": 3
   },
   "file_extension": ".py",
   "mimetype": "text/x-python",
   "name": "python",
   "nbconvert_exporter": "python",
   "pygments_lexer": "ipython3",
   "version": "3.12.4"
  }
 },
 "nbformat": 4,
 "nbformat_minor": 5
}
