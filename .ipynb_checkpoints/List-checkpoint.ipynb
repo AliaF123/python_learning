{
 "cells": [
  {
   "cell_type": "code",
   "execution_count": 1,
   "id": "4f3fb79b-59ba-43e9-9f98-d71c03cda7c5",
   "metadata": {
    "editable": true,
    "slideshow": {
     "slide_type": ""
    },
    "tags": []
   },
   "outputs": [
    {
     "data": {
      "text/plain": [
       "'There are two type of Data Structures in Python\\nBuild in \\n-> List\\n->Dictionary\\n-> Tuple\\n->Set\\n\\nUser defined\\n->Stack\\n->Queue \\n->Tree\\n'"
      ]
     },
     "execution_count": 1,
     "metadata": {},
     "output_type": "execute_result"
    }
   ],
   "source": [
    "\"\"\"There are two type of Data Structures in Python\n",
    "Build in \n",
    "-> List\n",
    "->Dictionary\n",
    "-> Tuple\n",
    "->Set\n",
    "\n",
    "User defined\n",
    "->Stack\n",
    "->Queue \n",
    "->Tree\n",
    "\"\"\"\n",
    "\n",
    "\n",
    "\n"
   ]
  },
  {
   "cell_type": "code",
   "execution_count": 3,
   "id": "50913150-f01e-4e36-998c-4b7366bcf4cf",
   "metadata": {
    "editable": true,
    "slideshow": {
     "slide_type": ""
    },
    "tags": []
   },
   "outputs": [
    {
     "data": {
      "text/plain": [
       "'List in Python\\nThe list is Build in data structure in Python\\nand it allow multiple data items into one variable\\nand all elements are arranged in specific order\\n(Can access all the elements using indexing )\\n'"
      ]
     },
     "execution_count": 3,
     "metadata": {},
     "output_type": "execute_result"
    }
   ],
   "source": [
    "\"\"\"List in Python\n",
    "The list is Build in data structure in Python\n",
    "and it allow multiple data items into one variable\n",
    "and all elements are arranged in specific order\n",
    "(Can access all the elements using indexing )\n",
    "\n",
    "Operations that can be performed\n",
    "\n",
    "1)accessing data\n",
    "2)Append-adding data\n",
    "3)Modify data\n",
    "4)Pop\n",
    "\n",
    "There are 12Methods in List\n",
    "count()\n",
    "sort()\n",
    "index()\n",
    "reverse()\n",
    "clear()\n",
    "copy()\n",
    "append()\n",
    "insert()\n",
    "extend()\n",
    "pop()\n",
    "remove()\n",
    "len()\n",
    "\"\"\""
   ]
  },
  {
   "cell_type": "code",
   "execution_count": 5,
   "id": "4ec74291-808a-4710-823d-6d073f18a859",
   "metadata": {
    "editable": true,
    "slideshow": {
     "slide_type": ""
    },
    "tags": []
   },
   "outputs": [
    {
     "name": "stdout",
     "output_type": "stream",
     "text": [
      "[1, 2, 3]\n"
     ]
    }
   ],
   "source": [
    "#Create a list\n",
    "my_list=[1,2,3]\n",
    "print(my_list)"
   ]
  },
  {
   "cell_type": "code",
   "execution_count": 7,
   "id": "4ec97603-3997-4cad-87da-91477dadda8c",
   "metadata": {
    "editable": true,
    "slideshow": {
     "slide_type": ""
    },
    "tags": []
   },
   "outputs": [
    {
     "name": "stdout",
     "output_type": "stream",
     "text": [
      "1\n"
     ]
    }
   ],
   "source": [
    "#Accessing elements of list using indexing\n",
    "print(my_list[0])"
   ]
  },
  {
   "cell_type": "code",
   "execution_count": 15,
   "id": "ccb87d5a-292d-467d-919b-f3f9e622c1a5",
   "metadata": {
    "editable": true,
    "slideshow": {
     "slide_type": ""
    },
    "tags": []
   },
   "outputs": [
    {
     "name": "stdout",
     "output_type": "stream",
     "text": [
      "[1, 2, 3]\n",
      "[1, 2, 3]\n",
      "[1, 2, 3]\n"
     ]
    }
   ],
   "source": [
    "for i in my_list :\n",
    "    print(my_list)"
   ]
  },
  {
   "cell_type": "code",
   "execution_count": 34,
   "id": "078291a2-f63c-428c-9d61-6e187884e625",
   "metadata": {
    "editable": true,
    "slideshow": {
     "slide_type": ""
    },
    "tags": []
   },
   "outputs": [
    {
     "name": "stdout",
     "output_type": "stream",
     "text": [
      "[1, 2, 3, 6, 4, 5]\n"
     ]
    }
   ],
   "source": [
    "#add data into the list --append\n",
    "my_list.append(4)\n",
    "my_list.append(5)\n",
    "print(my_list)\n"
   ]
  },
  {
   "cell_type": "code",
   "execution_count": 36,
   "id": "8a7c89cb-cdf4-4b09-ae59-7dc4ab096f5f",
   "metadata": {
    "editable": true,
    "slideshow": {
     "slide_type": ""
    },
    "tags": []
   },
   "outputs": [
    {
     "name": "stdout",
     "output_type": "stream",
     "text": [
      "[1, 2, 3, 6, 4, 6]\n"
     ]
    }
   ],
   "source": [
    "#modify data in list\n",
    "my_list[-1]=6\n",
    "print(my_list)"
   ]
  },
  {
   "cell_type": "code",
   "execution_count": 38,
   "id": "28b31af9-e07e-4c41-96d8-07a6a6a56599",
   "metadata": {
    "editable": true,
    "slideshow": {
     "slide_type": ""
    },
    "tags": []
   },
   "outputs": [
    {
     "data": {
      "text/plain": [
       "6"
      ]
     },
     "execution_count": 38,
     "metadata": {},
     "output_type": "execute_result"
    }
   ],
   "source": [
    "#Delete data from the list\n",
    "my_list.pop()"
   ]
  },
  {
   "cell_type": "code",
   "execution_count": 50,
   "id": "c09dc780-167f-4ee8-81b2-8084a0c3a1a6",
   "metadata": {
    "editable": true,
    "slideshow": {
     "slide_type": ""
    },
    "tags": []
   },
   "outputs": [
    {
     "name": "stdout",
     "output_type": "stream",
     "text": [
      "['string', 1, 10, [[1, 2, 3, 6, 4]]]\n"
     ]
    }
   ],
   "source": [
    "#mixed list\n",
    "mixed_list=['string',1,10,[my_list]]\n",
    "print(mixed_list)"
   ]
  },
  {
   "cell_type": "code",
   "execution_count": 59,
   "id": "c97abf56-3e6f-42ec-a7af-1214074ff094",
   "metadata": {
    "editable": true,
    "slideshow": {
     "slide_type": ""
    },
    "tags": []
   },
   "outputs": [
    {
     "name": "stdout",
     "output_type": "stream",
     "text": [
      "[]\n",
      "[]\n"
     ]
    }
   ],
   "source": [
    "#Create empty list can be done using sqr brackets or using list functions \n",
    "#Using square brackets\n",
    "my_list1=[]\n",
    "#using list() function\n",
    "my_list2= list()\n",
    "print(my_list1)\n",
    "print(my_list2)"
   ]
  },
  {
   "cell_type": "code",
   "execution_count": 57,
   "id": "b301048e-085d-4b71-abb4-17b87ebef835",
   "metadata": {
    "editable": true,
    "slideshow": {
     "slide_type": ""
    },
    "tags": []
   },
   "outputs": [
    {
     "name": "stdout",
     "output_type": "stream",
     "text": [
      "[1, 2, 3, 4, 5, 6, 7, 8, 9, 10]\n"
     ]
    }
   ],
   "source": [
    "#Create list using list function \n",
    "num_list=list(range(1,11))\n",
    "print(num_list)"
   ]
  },
  {
   "cell_type": "code",
   "execution_count": 75,
   "id": "d9714874-98cd-4fc7-b006-f444da0a5bab",
   "metadata": {
    "editable": true,
    "slideshow": {
     "slide_type": ""
    },
    "tags": []
   },
   "outputs": [
    {
     "name": "stdout",
     "output_type": "stream",
     "text": [
      "Results of append data add item at the end of the list\n",
      "[1, 2, 3]\n",
      "[1, 2, 3, 4]\n",
      "[1, 2, 3, 4, 5]\n",
      "Results of insert data at the particular index\n",
      "['harshit', 'rahul', 'raj']\n",
      "['harshit', 'saurabh', 'rahul', 'raj']\n",
      "['allinpython.com', 'harshit', 'saurabh', 'rahul', 'raj']\n",
      "Extend data merge the list\n",
      "['A', 'B', 'C', 'D', 'E', 'F', 'G', 'H']\n"
     ]
    }
   ],
   "source": [
    "#Add data in list\n",
    "#there are three methods to add data into list\n",
    "#append('value'),insert(index,'value'),extent('list')\n",
    "#1)append-- used to add data at the end of the list \n",
    "print(\"Results of append data add item at the end of the list\")\n",
    "my_num1=[1,2,3]\n",
    "print(my_num1)\n",
    "my_num1.append(4)\n",
    "print(my_num1)\n",
    "my_num1.append(5)\n",
    "print(my_num1)\n",
    "#2insert-- this method is used to add data into specific index\n",
    "#syntax list_name.insert(index,'value')\n",
    "print(\"Results of insert data at the particular index\")\n",
    "my_data = ['harshit','rahul','raj']\n",
    "print(my_data)\n",
    "\n",
    "my_data.insert(1,'saurabh')\n",
    "print(my_data)\n",
    "\n",
    "my_data.insert(0,'allinpython.com')\n",
    "print(my_data)\n",
    "#3)extend-- used to add the whole data of the list to another list\n",
    "print(\"Extend data merge the list\")\n",
    "my_data1=['A','B','C','D']\n",
    "my_data2=['E','F','G','H']\n",
    "my_data1.extend(my_data2)\n",
    "print(my_data1)\n",
    "\n",
    "\n"
   ]
  },
  {
   "cell_type": "code",
   "execution_count": 89,
   "id": "94b7e89c-21c8-4987-836c-c2cc03c05fff",
   "metadata": {
    "editable": true,
    "slideshow": {
     "slide_type": ""
    },
    "tags": []
   },
   "outputs": [
    {
     "name": "stdout",
     "output_type": "stream",
     "text": [
      "['A', 'B', 'C', 'D']\n",
      "['A', 'B', 'C']\n",
      "['A', 'B']\n"
     ]
    }
   ],
   "source": [
    "#Delete data into the list \n",
    "#There are two methods and one operator for deleting data from the list \n",
    "#pop(),remove(),del keyword\n",
    "\n",
    "my_data3=['A','B','C','D']\n",
    "print(my_data3)\n",
    "\n",
    "my_data3.pop()\n",
    "print(my_data3)\n",
    "\n",
    "my_data3.pop()\n",
    "print(my_data3)\n",
    "\n",
    "\n"
   ]
  }
 ],
 "metadata": {
  "kernelspec": {
   "display_name": "Python 3 (ipykernel)",
   "language": "python",
   "name": "python3"
  },
  "language_info": {
   "codemirror_mode": {
    "name": "ipython",
    "version": 3
   },
   "file_extension": ".py",
   "mimetype": "text/x-python",
   "name": "python",
   "nbconvert_exporter": "python",
   "pygments_lexer": "ipython3",
   "version": "3.12.4"
  }
 },
 "nbformat": 4,
 "nbformat_minor": 5
}
