{
 "cells": [
  {
   "cell_type": "code",
   "execution_count": 21,
   "id": "5767429b-afc9-4e09-8673-25a730f3cb8e",
   "metadata": {},
   "outputs": [
    {
     "name": "stdin",
     "output_type": "stream",
     "text": [
      "Enter a first number: 20\n"
     ]
    },
    {
     "name": "stdout",
     "output_type": "stream",
     "text": [
      "+\n",
      "-\n",
      "*\n",
      "/\n"
     ]
    },
    {
     "name": "stdin",
     "output_type": "stream",
     "text": [
      "Please enter operation +\n",
      "Enter a second number : 10\n"
     ]
    },
    {
     "name": "stdout",
     "output_type": "stream",
     "text": [
      "20.0+10.0=30.0\n"
     ]
    },
    {
     "name": "stdin",
     "output_type": "stream",
     "text": [
      "do you want to continue with c1 (yes/no): 30\n"
     ]
    },
    {
     "name": "stdout",
     "output_type": "stream",
     "text": [
      "+\n",
      "-\n",
      "*\n",
      "/\n"
     ]
    },
    {
     "name": "stdin",
     "output_type": "stream",
     "text": [
      "Please enter operation +\n",
      "Enter a second number : 20\n"
     ]
    },
    {
     "name": "stdout",
     "output_type": "stream",
     "text": [
      "30.0+20.0=50.0\n"
     ]
    },
    {
     "name": "stdin",
     "output_type": "stream",
     "text": [
      "do you want to continue with c1 (yes/no): no\n"
     ]
    }
   ],
   "source": [
    "\n",
    "\n",
    "'''\n",
    "We are using a python program for implementing mini calculator \n",
    "we use below concepts to implement \n",
    "if-else.\n",
    "function in python.\n",
    "while loop.\n",
    "for loop.\n",
    "Dictionary in python\n",
    "\n",
    "'''\n",
    "\n",
    "#add,sub,mul,div are functions \n",
    "def add(a,b):\n",
    "    return a+b\n",
    "def sub(a,b):\n",
    "    return a-b\n",
    "def mul(a,b):\n",
    "    return a*b\n",
    "def div(a,b):\n",
    "    return a/b\n",
    "    # Python dictionary named operator which maps mathematical operators  to corresponding function  operator:function  key:value\n",
    "    #creating python dictionary operator \n",
    "operators = {\n",
    "    '+' : add,\n",
    "    '-': sub,\n",
    "    '*' : mul,\n",
    "    '/': div\n",
    "}\n",
    "\n",
    "num1 =float(input('Enter a first number:'))\n",
    "should_continue=False\n",
    "while not should_continue :\n",
    "    for key in operators:\n",
    "        print(key)\n",
    "    operation=input('Please enter operation')\n",
    "    num2=float(input('Enter a second number :'))\n",
    "    calculation =operators[operation] \n",
    "    #looks up the value associated with key (operation) in dictionary\n",
    "    c1=calculation(num1,num2)\n",
    "    print(f\"{num1}{operation}{num2}={c1}\")\n",
    "\n",
    "    con=input(f\"do you want to continue with c1 (yes/no):\")\n",
    "    if con=='no':\n",
    "     should_continue=True\n",
    "    else:\n",
    "     num1=c1\n",
    "\n",
    "\n",
    "\n"
   ]
  },
  {
   "cell_type": "code",
   "execution_count": null,
   "id": "2161e9bd-ee96-44b2-8e87-8ee564825af3",
   "metadata": {},
   "outputs": [],
   "source": []
  }
 ],
 "metadata": {
  "kernelspec": {
   "display_name": "Python 3 (ipykernel)",
   "language": "python",
   "name": "python3"
  },
  "language_info": {
   "codemirror_mode": {
    "name": "ipython",
    "version": 3
   },
   "file_extension": ".py",
   "mimetype": "text/x-python",
   "name": "python",
   "nbconvert_exporter": "python",
   "pygments_lexer": "ipython3",
   "version": "3.12.4"
  }
 },
 "nbformat": 4,
 "nbformat_minor": 5
}
