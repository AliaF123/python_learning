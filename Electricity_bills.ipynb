{
 "cells": [
  {
   "cell_type": "code",
   "execution_count": null,
   "id": "47b6290a-445a-49ae-84fa-9021975e60ed",
   "metadata": {},
   "outputs": [],
   "source": [
    "#Generating Electricity Bills\n",
    "\n",
    "# 1 to 100 units - 1.5Rs\n",
    "# 101 to 200 units - 2.5Rs\n",
    "# 201 to 300 units - 4Rs\n",
    "# 300 to 350 units - 5Rs\n",
    "# Above 350 - Fixed charge 1500Rs\n",
    "#Concepts to Learn \n",
    "\n",
    "#function defination \n",
    "def ElectricityBillCall(units):\n",
    "    if units > 0 and units <=100 :\n",
    "        payment= units*1.5\n",
    "        fixedCharge=25\n",
    "    elif units> 101 and units <=200 :\n",
    "        payment=(100*1.5)+(units-100)*2.5\n",
    "        fixedCharge= 50\n",
    "    elif units> 200 and units<=300 :\n",
    "        payment =(100*1.5)+(200-100)*2.5+(units-200)*4\n",
    "        fixedCharge=75\n",
    "    elif units >300 and units<=350 :\n",
    "        payments=(100*1.5)+(200-100)*2.5+(300-200)*4+(units-300)*5\n",
    "        fixedCharge=100 #Extra charge\n",
    "    else:\n",
    "        payment=0\n",
    "        fixedCharge=1500\n",
    "        \n",
    "u=float(input(\"Enter the units consumed:\"))\n",
    "total=ElectricityBillCall(u)\n",
    "print(f\"Your Electricity Bill amount is: {total} Rs\")\n"
   ]
  },
  {
   "cell_type": "markdown",
   "id": "e77d4dc2-31e8-4bf1-986b-0291152d0bc7",
   "metadata": {},
   "source": [
    "# Assistant\n",
    "The selected code is a comment block that outlines the purpose and structure of the electricity billing calculation. Here's a step-by-step explanation:\n",
    "\n",
    "1. `#Generating Electricity Bills` - This comment indicates that the following code is intended to calculate electricity bills based on the number of units consumed.\n",
    "\n",
    "2. The subsequent lines describe the billing structure:\n",
    "   - `# 1 to 100 units - 1.5Rs` - For the first 100 units, the cost is 1.5 Rs per unit.\n",
    "   - `# 101 to 200 units - 2.5Rs` - For units between 101 and 200, the cost is 2.5 Rs per unit.\n",
    "   - `# 201 to 300 units - 4Rs` - For units between 201 and 300, the cost is 4 Rs per unit.\n",
    "   - `# 300 to 350 units - 5Rs` - For units between 301 and 350, the cost is 5 Rs per unit.\n",
    "   - `# Above 350 - Fixed charge 1500Rs` - For any consumption above 350 units, a fixed charge of 1500 Rs is applied.\n",
    "\n",
    "3. `#Concepts to Learn` - This comment suggests that the following code will demonstrate certain programming concepts, likely related to function definition and conditional statements.\n",
    "\n",
    "Overall, this selected code provides a clear overview of the billing structure and the educational intent behind the code that follows."
   ]
  }
 ],
 "metadata": {
  "kernelspec": {
   "display_name": "Python 3 (ipykernel)",
   "language": "python",
   "name": "python3"
  },
  "language_info": {
   "codemirror_mode": {
    "name": "ipython",
    "version": 3
   },
   "file_extension": ".py",
   "mimetype": "text/x-python",
   "name": "python",
   "nbconvert_exporter": "python",
   "pygments_lexer": "ipython3",
   "version": "3.12.4"
  }
 },
 "nbformat": 4,
 "nbformat_minor": 5
}
