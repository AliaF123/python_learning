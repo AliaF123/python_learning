{
 "cells": [
  {
   "cell_type": "code",
   "execution_count": 1,
   "id": "4f3fb79b-59ba-43e9-9f98-d71c03cda7c5",
   "metadata": {
    "editable": true,
    "slideshow": {
     "slide_type": ""
    },
    "tags": []
   },
   "outputs": [
    {
     "data": {
      "text/plain": [
       "'There are two type of Data Structures in Python\\nBuild in \\n-> List\\n->Dictionary\\n-> Tuple\\n->Set\\n\\nUser defined\\n->Stack\\n->Queue \\n->Tree\\n'"
      ]
     },
     "execution_count": 1,
     "metadata": {},
     "output_type": "execute_result"
    }
   ],
   "source": [
    "\"\"\"There are two type of Data Structures in Python\n",
    "Build in \n",
    "-> List\n",
    "->Dictionary\n",
    "-> Tuple\n",
    "->Set\n",
    "\n",
    "User defined\n",
    "->Stack\n",
    "->Queue \n",
    "->Tree\n",
    "\"\"\"\n",
    "\n",
    "\n",
    "\n"
   ]
  },
  {
   "cell_type": "code",
   "execution_count": null,
   "id": "c67a6953-e0c0-4333-b554-91d3b4f90f43",
   "metadata": {
    "editable": true,
    "slideshow": {
     "slide_type": ""
    },
    "tags": []
   },
   "outputs": [],
   "source": []
  },
  {
   "cell_type": "code",
   "execution_count": 3,
   "id": "50913150-f01e-4e36-998c-4b7366bcf4cf",
   "metadata": {
    "editable": true,
    "slideshow": {
     "slide_type": ""
    },
    "tags": []
   },
   "outputs": [
    {
     "data": {
      "text/plain": [
       "'List in Python\\nThe list is Build in data structure in Python\\nand it allow multiple data items into one variable\\nand all elements are arranged in specific order\\n(Can access all the elements using indexing )\\n'"
      ]
     },
     "execution_count": 3,
     "metadata": {},
     "output_type": "execute_result"
    }
   ],
   "source": [
    "\"\"\"List in Python\n",
    "The list is Build in data structure in Python\n",
    "and it allow multiple data items into one variable\n",
    "and all elements are arranged in specific order\n",
    "(Can access all the elements using indexing )\n",
    "\n",
    "Operations that can be performed\n",
    "\n",
    "1)accessing data\n",
    "2)Append-adding data\n",
    "3)Modify data\n",
    "4)Pop\n",
    "\n",
    "There are 12Methods in List\n",
    "count()\n",
    "sort()\n",
    "index()\n",
    "reverse()\n",
    "clear()\n",
    "copy()\n",
    "append()\n",
    "insert()\n",
    "extend()\n",
    "pop()\n",
    "remove()\n",
    "len()\n",
    "\"\"\""
   ]
  },
  {
   "cell_type": "code",
   "execution_count": 5,
   "id": "4ec74291-808a-4710-823d-6d073f18a859",
   "metadata": {
    "editable": true,
    "slideshow": {
     "slide_type": ""
    },
    "tags": []
   },
   "outputs": [
    {
     "name": "stdout",
     "output_type": "stream",
     "text": [
      "[1, 2, 3]\n"
     ]
    }
   ],
   "source": [
    "#Create a list\n",
    "my_list=[1,2,3]\n",
    "print(my_list)"
   ]
  },
  {
   "cell_type": "code",
   "execution_count": 7,
   "id": "4ec97603-3997-4cad-87da-91477dadda8c",
   "metadata": {
    "editable": true,
    "slideshow": {
     "slide_type": ""
    },
    "tags": []
   },
   "outputs": [
    {
     "name": "stdout",
     "output_type": "stream",
     "text": [
      "1\n"
     ]
    }
   ],
   "source": [
    "#Accessing elements of list using indexing\n",
    "print(my_list[0])"
   ]
  },
  {
   "cell_type": "code",
   "execution_count": 15,
   "id": "ccb87d5a-292d-467d-919b-f3f9e622c1a5",
   "metadata": {
    "editable": true,
    "slideshow": {
     "slide_type": ""
    },
    "tags": []
   },
   "outputs": [
    {
     "name": "stdout",
     "output_type": "stream",
     "text": [
      "[1, 2, 3]\n",
      "[1, 2, 3]\n",
      "[1, 2, 3]\n"
     ]
    }
   ],
   "source": [
    "for i in my_list :\n",
    "    print(my_list)"
   ]
  },
  {
   "cell_type": "code",
   "execution_count": 34,
   "id": "078291a2-f63c-428c-9d61-6e187884e625",
   "metadata": {
    "editable": true,
    "slideshow": {
     "slide_type": ""
    },
    "tags": []
   },
   "outputs": [
    {
     "name": "stdout",
     "output_type": "stream",
     "text": [
      "[1, 2, 3, 6, 4, 5]\n"
     ]
    }
   ],
   "source": [
    "#add data into the list --append\n",
    "my_list.append(4)\n",
    "my_list.append(5)\n",
    "print(my_list)\n"
   ]
  },
  {
   "cell_type": "code",
   "execution_count": 36,
   "id": "8a7c89cb-cdf4-4b09-ae59-7dc4ab096f5f",
   "metadata": {
    "editable": true,
    "slideshow": {
     "slide_type": ""
    },
    "tags": []
   },
   "outputs": [
    {
     "name": "stdout",
     "output_type": "stream",
     "text": [
      "[1, 2, 3, 6, 4, 6]\n"
     ]
    }
   ],
   "source": [
    "#modify data in list\n",
    "my_list[-1]=6\n",
    "print(my_list)"
   ]
  },
  {
   "cell_type": "code",
   "execution_count": 38,
   "id": "28b31af9-e07e-4c41-96d8-07a6a6a56599",
   "metadata": {
    "editable": true,
    "slideshow": {
     "slide_type": ""
    },
    "tags": []
   },
   "outputs": [
    {
     "data": {
      "text/plain": [
       "6"
      ]
     },
     "execution_count": 38,
     "metadata": {},
     "output_type": "execute_result"
    }
   ],
   "source": [
    "#Delete data from the list\n",
    "my_list.pop()"
   ]
  },
  {
   "cell_type": "code",
   "execution_count": 50,
   "id": "c09dc780-167f-4ee8-81b2-8084a0c3a1a6",
   "metadata": {
    "editable": true,
    "slideshow": {
     "slide_type": ""
    },
    "tags": []
   },
   "outputs": [
    {
     "name": "stdout",
     "output_type": "stream",
     "text": [
      "['string', 1, 10, [[1, 2, 3, 6, 4]]]\n"
     ]
    }
   ],
   "source": [
    "#mixed list\n",
    "mixed_list=['string',1,10,[my_list]]\n",
    "print(mixed_list)"
   ]
  },
  {
   "cell_type": "code",
   "execution_count": 59,
   "id": "c97abf56-3e6f-42ec-a7af-1214074ff094",
   "metadata": {
    "editable": true,
    "slideshow": {
     "slide_type": ""
    },
    "tags": []
   },
   "outputs": [
    {
     "name": "stdout",
     "output_type": "stream",
     "text": [
      "[]\n",
      "[]\n"
     ]
    }
   ],
   "source": [
    "#Create empty list can be done using sqr brackets or using list functions \n",
    "#Using square brackets\n",
    "my_list1=[]\n",
    "#using list() function\n",
    "my_list2= list()\n",
    "print(my_list1)\n",
    "print(my_list2)"
   ]
  },
  {
   "cell_type": "code",
   "execution_count": 57,
   "id": "b301048e-085d-4b71-abb4-17b87ebef835",
   "metadata": {
    "editable": true,
    "slideshow": {
     "slide_type": ""
    },
    "tags": []
   },
   "outputs": [
    {
     "name": "stdout",
     "output_type": "stream",
     "text": [
      "[1, 2, 3, 4, 5, 6, 7, 8, 9, 10]\n"
     ]
    }
   ],
   "source": [
    "#Create list using list function \n",
    "num_list=list(range(1,11))\n",
    "print(num_list)"
   ]
  },
  {
   "cell_type": "code",
   "execution_count": 75,
   "id": "d9714874-98cd-4fc7-b006-f444da0a5bab",
   "metadata": {
    "editable": true,
    "slideshow": {
     "slide_type": ""
    },
    "tags": []
   },
   "outputs": [
    {
     "name": "stdout",
     "output_type": "stream",
     "text": [
      "Results of append data add item at the end of the list\n",
      "[1, 2, 3]\n",
      "[1, 2, 3, 4]\n",
      "[1, 2, 3, 4, 5]\n",
      "Results of insert data at the particular index\n",
      "['harshit', 'rahul', 'raj']\n",
      "['harshit', 'saurabh', 'rahul', 'raj']\n",
      "['allinpython.com', 'harshit', 'saurabh', 'rahul', 'raj']\n",
      "Extend data merge the list\n",
      "['A', 'B', 'C', 'D', 'E', 'F', 'G', 'H']\n"
     ]
    }
   ],
   "source": [
    "#Add data in list\n",
    "#there are three methods to add data into list\n",
    "#append('value'),insert(index,'value'),extent('list')\n",
    "#1)append-- used to add data at the end of the list \n",
    "print(\"Results of append data add item at the end of the list\")\n",
    "my_num1=[1,2,3]\n",
    "print(my_num1)\n",
    "\n",
    "my_num1.append(4)\n",
    "print(my_num1)\n",
    "\n",
    "my_num1.append(5)\n",
    "print(my_num1)\n",
    "\n",
    "\n",
    "#2insert-- this method is used to add data into specific index\n",
    "#syntax list_name.insert(index,'value')\n",
    "print(\"Results of insert data at the particular index\")\n",
    "my_data = ['harshit','rahul','raj']\n",
    "print(my_data)\n",
    "\n",
    "my_data.insert(1,'saurabh')\n",
    "print(my_data)\n",
    "\n",
    "my_data.insert(0,'allinpython.com')\n",
    "print(my_data)\n",
    "\n",
    "\n",
    "#3)extend-- used to add the whole data of the list to another list\n",
    "print(\"Extend data merge the list\")\n",
    "my_data1=['A','B','C','D']\n",
    "my_data2=['E','F','G','H']\n",
    "my_data1.extend(my_data2)\n",
    "print(my_data1)\n",
    "\n",
    "\n"
   ]
  },
  {
   "cell_type": "code",
   "execution_count": 128,
   "id": "39037452-3273-48b1-9e9b-ba76f16ea2a8",
   "metadata": {
    "editable": true,
    "slideshow": {
     "slide_type": ""
    },
    "tags": []
   },
   "outputs": [
    {
     "name": "stdout",
     "output_type": "stream",
     "text": [
      "Using pop () to remove element from the end of the list\n",
      "['A', 'B', 'C', 'D']\n",
      "['A', 'B', 'C']\n",
      "['A', 'B']\n",
      "Using method remove() to remove element from specific position\n",
      "['Harsh', 'Rahul', 'Raj']\n",
      "using del keyword\n",
      "['E', 'F', 'G', 'H']\n",
      "['E', 'F', 'G']\n"
     ]
    }
   ],
   "source": [
    "#Delete data into the list \n",
    "#There are two methods and one operator for deleting data from the list \n",
    "#pop(),remove(),del keyword\n",
    "\n",
    "#pop-method used to remove element from the end of the list \n",
    "\n",
    "print(\"Using pop () to remove element from the end of the list\")\n",
    "\n",
    "my_data3=['A','B','C','D']\n",
    "print(my_data3)\n",
    "\n",
    "my_data3.pop()\n",
    "print(my_data3)\n",
    "\n",
    "my_data3.pop()\n",
    "print(my_data3)\n",
    "\n",
    "#remove method used to remove specific element from the list \n",
    "print(\"Using method remove() to remove element from specific position\")\n",
    "\n",
    "\n",
    "my_list3=['Harsh','Rahul','Raj']\n",
    "print(my_list3)\n",
    "my_list3.remove('Raj')\n",
    "\n",
    "#del keyword is used to remove element at particular index\n",
    "\n",
    "my_data4 = ['E','F','G','H']\n",
    "print(\"using del keyword\")\n",
    "print(my_data4)\n",
    "del my_data4[3]\n",
    "print(my_data4)"
   ]
  },
  {
   "cell_type": "code",
   "execution_count": 130,
   "id": "3395e3d2-9ac1-44c1-b485-f8da1e407da5",
   "metadata": {
    "editable": true,
    "slideshow": {
     "slide_type": ""
    },
    "tags": []
   },
   "outputs": [
    {
     "name": "stdout",
     "output_type": "stream",
     "text": [
      "Using for loop\n",
      "orange\n",
      "apple\n",
      "pear\n",
      "using while loop\n",
      "orange\n",
      "apple\n",
      "pear\n"
     ]
    }
   ],
   "source": [
    "#Loop in List\n",
    "\n",
    "#for loop\n",
    "\n",
    "fruits=['orange','apple','pear']\n",
    "print(\"Using for loop\")\n",
    "for i in fruits :\n",
    "    print(i)\n",
    "\n",
    "#while loop\n",
    "\n",
    "print(\"using while loop\")\n",
    "i=0\n",
    "while i<len(fruits) :\n",
    "    print(fruits[i])\n",
    "    i=i+1"
   ]
  },
  {
   "cell_type": "code",
   "execution_count": 134,
   "id": "20828669-5789-4e5d-9f46-01079222c8cf",
   "metadata": {
    "editable": true,
    "slideshow": {
     "slide_type": ""
    },
    "tags": []
   },
   "outputs": [
    {
     "name": "stdout",
     "output_type": "stream",
     "text": [
      "2\n"
     ]
    }
   ],
   "source": [
    "#Count Method\n",
    "#count method returns number of times specific item appears in a list\n",
    "\n",
    "cars= ['Toyota','Chevrolet','Renault','Toyota']\n",
    "print(cars.count('Toyota'))"
   ]
  },
  {
   "cell_type": "code",
   "execution_count": 146,
   "id": "c216feb7-26d1-4451-af77-05e8019c9236",
   "metadata": {
    "editable": true,
    "slideshow": {
     "slide_type": ""
    },
    "tags": []
   },
   "outputs": [
    {
     "name": "stdout",
     "output_type": "stream",
     "text": [
      "Ascending order\n",
      "[1, 2, 3, 5, 7]\n",
      "['A', 'B', 'D', 'F', 'K']\n",
      "Descending order\n",
      "[8, 6, 5, 2, 1]\n",
      "['K', 'F', 'D', 'B', 'A']\n"
     ]
    }
   ],
   "source": [
    "#sort Method\n",
    "\n",
    "#ascending order\n",
    "print(\"Ascending order\")\n",
    "numbers = [5,2,7,1,3]\n",
    "numbers.sort()\n",
    "print(numbers)\n",
    "\n",
    "alphabates = ['A','F','B','K','D']\n",
    "alphabates.sort()\n",
    "print(alphabates)\n",
    "\n",
    "#descending order\n",
    "print(\"Descending order\")\n",
    "num2=[1,5,2,6,8]\n",
    "num2.sort(reverse=True)\n",
    "print(num2)\n",
    "\n",
    "alphabates2 = ['A','F','B','K','D']\n",
    "alphabates2.sort(reverse=True)\n",
    "print(alphabates2)\n",
    "\n",
    "\n",
    "\n"
   ]
  },
  {
   "cell_type": "code",
   "execution_count": 168,
   "id": "e8bb3c66-e010-4aaf-9067-b929613086cc",
   "metadata": {
    "editable": true,
    "slideshow": {
     "slide_type": ""
    },
    "tags": []
   },
   "outputs": [
    {
     "name": "stdout",
     "output_type": "stream",
     "text": [
      "[5, 2, 7, 1, 3]\n",
      "Ascending Order: [1, 2, 3, 5, 7]\n",
      "Descending Order: [7, 5, 3, 2, 1]\n"
     ]
    }
   ],
   "source": [
    "#Sorted function\n",
    "#To sort the list\n",
    "#sorted() function returns a new sorted list but the sort() method sorts in the same list.\n",
    "\n",
    "numbers=[5,2,7,1,3]\n",
    "print(numbers)\n",
    "asc_num=sorted(numbers)\n",
    "print(f\"Ascending Order: {asc_num}\")\n",
    "\n",
    "desc_num =sorted(numbers,reverse=True)\n",
    "print(f\"Descending Order: {desc_num}\")\n",
    "\n",
    "\n",
    "\n",
    "\n",
    "\n"
   ]
  },
  {
   "cell_type": "code",
   "execution_count": 170,
   "id": "565ae924-ff76-4367-a2b9-520e917f1111",
   "metadata": {
    "editable": true,
    "slideshow": {
     "slide_type": ""
    },
    "tags": []
   },
   "outputs": [
    {
     "name": "stdout",
     "output_type": "stream",
     "text": [
      "0\n"
     ]
    }
   ],
   "source": [
    "#index() Method\n",
    "#The index() method returns the index value of the first occurs specified item of the list.\n",
    "name=['Alia','Ruhie','Simmy']\n",
    "print(name.index('Alia'))\n"
   ]
  },
  {
   "cell_type": "code",
   "execution_count": 172,
   "id": "2db71a8f-8b57-4ee5-9882-a9e9edf1d5aa",
   "metadata": {
    "editable": true,
    "slideshow": {
     "slide_type": ""
    },
    "tags": []
   },
   "outputs": [
    {
     "name": "stdout",
     "output_type": "stream",
     "text": [
      "['Yamaha', 'TVS', 'Suzuki']\n"
     ]
    }
   ],
   "source": [
    "#reverse() Method\n",
    "#the reverse() method is used to reverse the list.\n",
    "bikes=[\"Suzuki\",\"TVS\",\"Yamaha\"]\n",
    "bikes.reverse()\n",
    "print(bikes)"
   ]
  },
  {
   "cell_type": "code",
   "execution_count": 174,
   "id": "856071d3-2f84-4fd8-b5e6-a50802b713a6",
   "metadata": {
    "editable": true,
    "slideshow": {
     "slide_type": ""
    },
    "tags": []
   },
   "outputs": [
    {
     "name": "stdout",
     "output_type": "stream",
     "text": [
      "[]\n"
     ]
    }
   ],
   "source": [
    "#clear() Method\n",
    "#The clear() method is used to clear (or empty) the list.\n",
    "num=[1,2,3,4,5]\n",
    "num.clear()\n",
    "print(num)"
   ]
  },
  {
   "cell_type": "code",
   "execution_count": 176,
   "id": "27434367-0614-4cff-991d-40c03457d323",
   "metadata": {
    "editable": true,
    "slideshow": {
     "slide_type": ""
    },
    "tags": []
   },
   "outputs": [
    {
     "name": "stdout",
     "output_type": "stream",
     "text": [
      "[2, 3, 5, 7, 11, 13]\n"
     ]
    }
   ],
   "source": [
    "#copy() Method\n",
    "#the copy() method is used to create a copy of the list.\n",
    "l1 = [2,3,5,7,11,13]\n",
    "l2 = l1.copy()\n",
    "\n",
    "print(l2)"
   ]
  }
 ],
 "metadata": {
  "kernelspec": {
   "display_name": "Python 3 (ipykernel)",
   "language": "python",
   "name": "python3"
  },
  "language_info": {
   "codemirror_mode": {
    "name": "ipython",
    "version": 3
   },
   "file_extension": ".py",
   "mimetype": "text/x-python",
   "name": "python",
   "nbconvert_exporter": "python",
   "pygments_lexer": "ipython3",
   "version": "3.12.4"
  }
 },
 "nbformat": 4,
 "nbformat_minor": 5
}
