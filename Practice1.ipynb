{
 "cells": [
  {
   "cell_type": "code",
   "execution_count": 6,
   "id": "afc85550-2222-4f40-a742-5f209ed411f4",
   "metadata": {
    "editable": true,
    "slideshow": {
     "slide_type": ""
    },
    "tags": []
   },
   "outputs": [
    {
     "name": "stdout",
     "output_type": "stream",
     "text": [
      "Hello Python\n"
     ]
    }
   ],
   "source": [
    "print(\"Hello Python\")"
   ]
  },
  {
   "cell_type": "code",
   "execution_count": 28,
   "id": "bb736a20-38b0-4dad-ab56-865d09c1d1cd",
   "metadata": {
    "editable": true,
    "slideshow": {
     "slide_type": ""
    },
    "tags": []
   },
   "outputs": [
    {
     "name": "stdin",
     "output_type": "stream",
     "text": [
      "Enter the first number for addition 40\n",
      "Enter the second number for addition 50\n"
     ]
    },
    {
     "name": "stdout",
     "output_type": "stream",
     "text": [
      "sum:40.0+50.0=90.0\n",
      "sub:40.0-50.0=-10.0\n",
      "mul:40.0*50.0=2000.0\n",
      "div:40.0/50.0=0.8\n"
     ]
    }
   ],
   "source": [
    "#Addition \n",
    "num1=float(input(\"Enter the first number for addition\"))\n",
    "num2=float(input(\"Enter the second number for addition\"))\n",
    "sum=num1+num2\n",
    "sub=num1-num2\n",
    "mul=num1*num2\n",
    "if num2==0:\n",
    "    print(\"Division by zero is not allowed\")\n",
    "else :\n",
    "    div=num1/num2\n",
    "print(f\"sum:{num1}+{num2}={sum}\")\n",
    "print(f\"sub:{num1}-{num2}={sub}\")\n",
    "print(f\"mul:{num1}*{num2}={mul}\")\n",
    "print(f\"div:{num1}/{num2}={div}\")"
   ]
  },
  {
   "cell_type": "code",
   "execution_count": 40,
   "id": "ca6fae6d-05e5-4bdc-805d-5f914dfb2db4",
   "metadata": {
    "editable": true,
    "slideshow": {
     "slide_type": ""
    },
    "tags": []
   },
   "outputs": [
    {
     "name": "stdin",
     "output_type": "stream",
     "text": [
      "Enter the base of the triangle 30\n",
      "Enter the height of the triangle 40\n"
     ]
    },
    {
     "name": "stdout",
     "output_type": "stream",
     "text": [
      "The are of triangle is: 600.0\n"
     ]
    }
   ],
   "source": [
    "#Area of a triangle\n",
    "base=float(input(\"Enter the base of the triangle\"))\n",
    "height=float(input(\"Enter the height of the triangle\"))\n",
    "#Calculate the area of the triangle\n",
    "area=0.5*base*height\n",
    "#Display the area\n",
    "print(f\"The are of triangle is: {area}\")"
   ]
  },
  {
   "cell_type": "code",
   "execution_count": 44,
   "id": "4d4455d2-f302-4f4a-b902-e27d6aa10523",
   "metadata": {
    "editable": true,
    "slideshow": {
     "slide_type": ""
    },
    "tags": []
   },
   "outputs": [
    {
     "name": "stdin",
     "output_type": "stream",
     "text": [
      "Enter the value of the first variable(a): 30\n",
      "Enter the value of the second variable(b): 40\n"
     ]
    },
    {
     "name": "stdout",
     "output_type": "stream",
     "text": [
      "Original value of a :30,b:40\n",
      "swapped values are a:40,b:30\n"
     ]
    }
   ],
   "source": [
    "#Python program to swap two numbers\n",
    "a=input(\"Enter the value of the first variable(a):\")\n",
    "b=input(\"Enter the value of the second variable(b):\")\n",
    "print(f\"Original value of a :{a},b:{b}\")\n",
    "temp=a\n",
    "a=b\n",
    "b=temp\n",
    "#Display the swapped values\n",
    "print(f\"swapped values are a:{a},b:{b}\")"
   ]
  },
  {
   "cell_type": "code",
   "execution_count": 62,
   "id": "d933dacf-242b-4737-9127-832730311f9e",
   "metadata": {
    "editable": true,
    "slideshow": {
     "slide_type": ""
    },
    "tags": []
   },
   "outputs": [
    {
     "name": "stdout",
     "output_type": "stream",
     "text": [
      "Random number: 40\n"
     ]
    }
   ],
   "source": [
    "#Write a program to generate random numbers\n",
    "import random\n",
    "print(f\"Random number: {random.randint(1,100)}\")"
   ]
  },
  {
   "cell_type": "code",
   "execution_count": 64,
   "id": "4052319b-e8ec-44c7-859d-a9d66b084543",
   "metadata": {
    "editable": true,
    "slideshow": {
     "slide_type": ""
    },
    "tags": []
   },
   "outputs": [
    {
     "name": "stdin",
     "output_type": "stream",
     "text": [
      "Enter the value of the first variable(x): 20\n",
      "Enter the value of the second variable(y): 30\n"
     ]
    },
    {
     "name": "stdout",
     "output_type": "stream",
     "text": [
      "swapped values are x:30,y:20\n"
     ]
    }
   ],
   "source": [
    "#Write a swap program without using a temp variable\n",
    "x=input(\"Enter the value of the first variable(x):\")\n",
    "y=input(\"Enter the value of the second variable(y):\")\n",
    "#Swapping number\n",
    "x,y=y,x\n",
    "print(f\"swapped values are x:{x},y:{y}\")\n",
    "\n"
   ]
  },
  {
   "cell_type": "code",
   "execution_count": 68,
   "id": "609d6b30-0179-461d-8fb0-aabfdd06e621",
   "metadata": {
    "editable": true,
    "slideshow": {
     "slide_type": ""
    },
    "tags": []
   },
   "outputs": [
    {
     "name": "stdin",
     "output_type": "stream",
     "text": [
      "Enter the value of the first variable(n1): 40\n",
      "Enter the value of the second variable(n2): 60\n"
     ]
    },
    {
     "name": "stdout",
     "output_type": "stream",
     "text": [
      "swapped values are n1:60.0,n2:40.0\n"
     ]
    }
   ],
   "source": [
    "#Write a program to swap variables without using a extra variable\n",
    "n1=float(input(\"Enter the value of the first variable(n1):\"))\n",
    "n2=float(input(\"Enter the value of the second variable(n2):\"))\n",
    "n1=n1+n2\n",
    "n2=n1-n2\n",
    "n1=n1-n2\n",
    "print(f\"swapped values are n1:{n1},n2:{n2}\")\n",
    "\n"
   ]
  }
 ],
 "metadata": {
  "kernelspec": {
   "display_name": "Python 3 (ipykernel)",
   "language": "python",
   "name": "python3"
  },
  "language_info": {
   "codemirror_mode": {
    "name": "ipython",
    "version": 3
   },
   "file_extension": ".py",
   "mimetype": "text/x-python",
   "name": "python",
   "nbconvert_exporter": "python",
   "pygments_lexer": "ipython3",
   "version": "3.12.4"
  }
 },
 "nbformat": 4,
 "nbformat_minor": 5
}
