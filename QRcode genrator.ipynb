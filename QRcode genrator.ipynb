{
 "cells": [
  {
   "cell_type": "code",
   "execution_count": 36,
   "id": "0a0d3468-f83b-4e64-90e8-565c160e60bc",
   "metadata": {},
   "outputs": [
    {
     "name": "stdout",
     "output_type": "stream",
     "text": [
      "QR Code generated and saved as 'custom_qr_code.png'\n"
     ]
    }
   ],
   "source": [
    "#generate a qrcode \n",
    "'''\n",
    "A QR code (Quick Response Code) is a two-dimensional barcode that stores information.\n",
    "It can hold various types of data like URLs, text, or numbers, \n",
    "and can be scanned using a QR code reader or a smartphone.\n",
    "first installed  library pip install qrcode[pil]\n",
    "'''\n",
    "import qrcode\n",
    "from PIL import Image\n",
    "def  generate_qr(url,fg_color=\"black\",bg_color=\"white\"):\n",
    "    \"\"\"\n",
    "    generate a qrcode with a given URL and colors\n",
    "    \n",
    "    Parameters :\n",
    "    url (str) :The url or data to encode in the OR code.\n",
    "    fg_color (str) :Foreground color of the QR code (default is black).\n",
    "    bg_color (str): Background color of the QR code is (default white).\n",
    "    \n",
    "    Returns:\n",
    "    None\n",
    "    \"\"\"\n",
    "    #Create a QR code object with basic settings \n",
    "    qr= qrcode.QRCode (\n",
    "         version =1 , #controls the size of the QR code \n",
    "         error_correction =qrcode.constants.ERROR_CORRECT_L,  #error tolerance\n",
    "         box_size=10 ,#size of each box in the OR code grid\n",
    "         border=4,#thickness of the border\n",
    "    )\n",
    "\n",
    "    #Add the URL/data to the QR code \n",
    "    qr.add_data(url)\n",
    "    qr.make(fit=True)\n",
    "\n",
    "    #Create an image from the QR code with the specified colors\n",
    "    img= qr.make_image(fill_color=fg_color,back_color=bg_color).convert('RGB')\n",
    "    \n",
    "    #Save the image\n",
    "    img.save(\"custom_qr_code.png\")\n",
    "    print (f\"QR Code generated and saved as 'custom_qr_code.png'\")\n",
    "    \n",
    "#Example usage\n",
    "if __name__==\"__main__\":\n",
    "    #URL and colors (pass your own or use defaults\n",
    "    url_to_encode=\"https://allinpython.com\"\n",
    "    foreground_color =\"purple\" #Change if needed \n",
    "    background_color=\"white\" #change if needed \n",
    "    \n",
    "    #generate qrcode \n",
    "    generate_qr(url_to_encode,fg_color=foreground_color,bg_color=background_color)\n",
    "\n",
    "\n",
    "\n",
    "\n",
    "\n",
    "\n",
    "\n",
    "    "
   ]
  },
  {
   "cell_type": "code",
   "execution_count": null,
   "id": "64f034c0-67f4-443b-8579-8ac1e6504d21",
   "metadata": {},
   "outputs": [],
   "source": []
  },
  {
   "cell_type": "code",
   "execution_count": null,
   "id": "202766a4-303a-4a8f-b16d-3e5a2f3c9940",
   "metadata": {},
   "outputs": [],
   "source": []
  }
 ],
 "metadata": {
  "kernelspec": {
   "display_name": "Python 3 (ipykernel)",
   "language": "python",
   "name": "python3"
  },
  "language_info": {
   "codemirror_mode": {
    "name": "ipython",
    "version": 3
   },
   "file_extension": ".py",
   "mimetype": "text/x-python",
   "name": "python",
   "nbconvert_exporter": "python",
   "pygments_lexer": "ipython3",
   "version": "3.12.4"
  }
 },
 "nbformat": 4,
 "nbformat_minor": 5
}
